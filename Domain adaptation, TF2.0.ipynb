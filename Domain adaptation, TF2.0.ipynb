{
 "cells": [
  {
   "cell_type": "markdown",
   "metadata": {
    "colab_type": "text",
    "id": "0uJMBb-WH2Li"
   },
   "source": [
    "# Adversarial domain adaptation in Tensorflow 2.0\n",
    "- TF2 implementation of basic adversarial technique documented here: https://arxiv.org/pdf/1409.7495.pdf\n",
    "- Source: MNIST \n",
    "- Target: MNIST-M (MNIST with random colour patches)\n",
    "- Train on MNIST and test on MNIST-M\n",
    "- Make the features of the classifier invariant to the domain to boost performance\n",
    "- Gives performance boost in accuracy on target domain from ~60% to ~84%"
   ]
  },
  {
   "cell_type": "code",
   "execution_count": 1,
   "metadata": {
    "colab": {},
    "colab_type": "code",
    "id": "o2MmZFz-H2Ll"
   },
   "outputs": [],
   "source": [
    "from __future__ import absolute_import, division, print_function, unicode_literals\n",
    "import tensorflow as tf\n",
    "from tensorflow.python.keras.layers import Dense, Flatten, Conv2D, MaxPool2D\n",
    "from tensorflow.python.keras import Model\n",
    "import imageio\n",
    "import pandas as pd\n",
    "import numpy as np\n",
    "import IPython.display as display\n",
    "import os\n",
    "import pickle"
   ]
  },
  {
   "cell_type": "code",
   "execution_count": 3,
   "metadata": {
    "colab": {
     "base_uri": "https://localhost:8080/",
     "height": 51
    },
    "colab_type": "code",
    "id": "rVe7vz1rH2Lr",
    "outputId": "4d04c7dc-42fb-4bf1-84dd-321f511abb30"
   },
   "outputs": [
    {
     "name": "stdout",
     "output_type": "stream",
     "text": [
      "GPU Available:  True\n",
      "2.0.0\n"
     ]
    }
   ],
   "source": [
    "print(\"GPU Available: \", tf.test.is_gpu_available())\n",
    "print(tf.__version__)"
   ]
  },
  {
   "cell_type": "code",
   "execution_count": 3,
   "metadata": {
    "colab": {},
    "colab_type": "code",
    "id": "FHtH9QeoH2Lv"
   },
   "outputs": [],
   "source": [
    "LOAD_FROM_PICKLE = False # True if ./mnist_m/mnist_m_test_ls.pkl and ./mnist_m/mnist_m_train_ls.pkl files present"
   ]
  },
  {
   "cell_type": "markdown",
   "metadata": {
    "colab_type": "text",
    "id": "Ojf2VxXPH2Ly"
   },
   "source": [
    "## Baseline on MNIST-M\n",
    "\n",
    "Import MNIST and convert to RGB by replicating across 3 dimensions"
   ]
  },
  {
   "cell_type": "code",
   "execution_count": 0,
   "metadata": {
    "colab": {},
    "colab_type": "code",
    "id": "Bw_XvMklH2Lz"
   },
   "outputs": [],
   "source": [
    "mnist = tf.keras.datasets.mnist\n",
    "(x_train, y_train), (x_test, y_test) = mnist.load_data()\n",
    "\n",
    "x_train = np.stack((x_train,)*3, axis=-1)\n",
    "x_test = np.stack((x_test,)*3, axis=-1)"
   ]
  },
  {
   "cell_type": "markdown",
   "metadata": {
    "colab_type": "text",
    "id": "bYj2p5PkH2L1"
   },
   "source": [
    "Form a TF dataset"
   ]
  },
  {
   "cell_type": "code",
   "execution_count": 7,
   "metadata": {
    "colab": {
     "base_uri": "https://localhost:8080/",
     "height": 34
    },
    "colab_type": "code",
    "id": "9vmGi9xlH2L2",
    "outputId": "78b34457-04f2-4a56-a2c4-0888d76835ed"
   },
   "outputs": [
    {
     "data": {
      "text/plain": [
       "<BatchDataset shapes: ((None, 28, 28, 3), (None,)), types: (tf.uint8, tf.uint8)>"
      ]
     },
     "execution_count": 7,
     "metadata": {
      "tags": []
     },
     "output_type": "execute_result"
    }
   ],
   "source": [
    "train_ds = tf.data.Dataset.from_tensor_slices(\n",
    "    (x_train, y_train)).shuffle(60000).batch(32)\n",
    "test_ds = tf.data.Dataset.from_tensor_slices((x_test, y_test)).batch(32)\n",
    "\n",
    "test_ds"
   ]
  },
  {
   "cell_type": "markdown",
   "metadata": {
    "colab_type": "text",
    "id": "tgSM2Ub_H2L4"
   },
   "source": [
    "Now MNIST-M: dataset can be obtained here: https://drive.google.com/drive/folders/0B_tExHiYS-0vR2dNZEU4NGlSSW8.\n",
    "Use imageio to read the images and crop to 28 by 28, then create a second tf dataset "
   ]
  },
  {
   "cell_type": "code",
   "execution_count": 4,
   "metadata": {
    "colab": {},
    "colab_type": "code",
    "id": "l0_djiyzH2L4"
   },
   "outputs": [],
   "source": [
    "if not LOAD_FROM_PICKLE:\n",
    "    mnist_m_train_folder = './mnist_m/mnist_m_train/'\n",
    "    sorted_img_paths_train = [mnist_m_train_folder + i for i in sorted(os.listdir(mnist_m_train_folder))]\n",
    "    \n",
    "    mnist_m_test_folder = './mnist_m/mnist_m_test/'\n",
    "    sorted_img_paths_test = [mnist_m_test_folder + i for i in sorted(os.listdir(mnist_m_test_folder))]"
   ]
  },
  {
   "cell_type": "code",
   "execution_count": 0,
   "metadata": {
    "colab": {},
    "colab_type": "code",
    "id": "IGYFcSW9H2L6"
   },
   "outputs": [],
   "source": [
    "mnist_m_train_labels_file = './mnist_m/mnist_m_train_labels.txt'\n",
    "with open(mnist_m_train_labels_file, \"r\") as f:\n",
    "  mnist_m_train_y = [int(i[-1]) for i in f.read().split('\\n')[:-1]]\n",
    "\n",
    "mnist_m_test_labels_file = './mnist_m/mnist_m_test_labels.txt'\n",
    "with open(mnist_m_test_labels_file, \"r\") as f:\n",
    "  mnist_m_test_y = [int(i[-1]) for i in f.read().split('\\n')[:-1]]"
   ]
  },
  {
   "cell_type": "code",
   "execution_count": 0,
   "metadata": {
    "colab": {},
    "colab_type": "code",
    "id": "CcSU_gN1H2L7"
   },
   "outputs": [],
   "source": [
    "if LOAD_FROM_PICKLE:\n",
    "    with open(\"./mnist_m/mnist_m_train_ls.pkl\", 'rb') as f:\n",
    "      mnist_m_train_ls = pickle.load(f)\n",
    "    with open(\"./mnist_m/mnist_m_test_ls.pkl\", 'rb') as f:\n",
    "      mnist_m_test_ls = pickle.load(f)\n",
    "else:\n",
    "    mnist_m_train_ls = [(imageio.imread(i)[2:-2,2:-2,:]) for i in sorted_img_paths_train]\n",
    "    with open(\"./mnist_m/mnist_m_train_ls.pkl\", 'wb') as f:\n",
    "      pickle.dump(mnist_m_train_ls, f)\n",
    "    mnist_m_test_ls = [(imageio.imread(i)[2:-2,2:-2,:]) for i in sorted_img_paths_test]\n",
    "    with open(\"./mnist_m/mnist_m_test_ls.pkl\", 'wb') as f:\n",
    "      pickle.dump(mnist_m_test_ls, f)"
   ]
  },
  {
   "cell_type": "code",
   "execution_count": 0,
   "metadata": {
    "colab": {},
    "colab_type": "code",
    "id": "BXoADtfLH2L9"
   },
   "outputs": [],
   "source": [
    "mnist_m_train_ds = tf.data.Dataset.from_tensor_slices((mnist_m_train_ls,tf.cast(mnist_m_train_y, tf.int8))).batch(32)\n"
   ]
  },
  {
   "cell_type": "code",
   "execution_count": 0,
   "metadata": {
    "colab": {},
    "colab_type": "code",
    "id": "bQ3WLU2u2J_5"
   },
   "outputs": [],
   "source": [
    "mnist_m_test_ds = tf.data.Dataset.from_tensor_slices((mnist_m_test_ls,tf.cast(mnist_m_test_y, tf.int8))).batch(32)"
   ]
  },
  {
   "cell_type": "markdown",
   "metadata": {
    "colab_type": "text",
    "id": "GaiqKrB9H2L-"
   },
   "source": [
    "Check some images"
   ]
  },
  {
   "cell_type": "code",
   "execution_count": 5,
   "metadata": {
    "colab": {},
    "colab_type": "code",
    "id": "Kzb912SRH2L-"
   },
   "outputs": [
    {
     "data": {
      "image/png": "[encoded data removed]",
      "text/plain": [
       "<IPython.core.display.Image object>"
      ]
     },
     "metadata": {},
     "output_type": "display_data"
    },
    {
     "name": "stdout",
     "output_type": "stream",
     "text": [
      "\n"
     ]
    },
    {
     "data": {
      "image/png": "[encoded data removed]",
      "text/plain": [
       "<IPython.core.display.Image object>"
      ]
     },
     "metadata": {},
     "output_type": "display_data"
    },
    {
     "name": "stdout",
     "output_type": "stream",
     "text": [
      "\n"
     ]
    },
    {
     "data": {
      "image/png": "[encoded data removed]",
      "text/plain": [
       "<IPython.core.display.Image object>"
      ]
     },
     "metadata": {},
     "output_type": "display_data"
    },
    {
     "name": "stdout",
     "output_type": "stream",
     "text": [
      "\n"
     ]
    }
   ],
   "source": [
    "if not LOAD_FROM_PICKLE:\n",
    "    for n in range(3):\n",
    "      image_path = sorted_img_paths_train[n]\n",
    "      display.display(display.Image(image_path))\n",
    "      print()"
   ]
  },
  {
   "cell_type": "markdown",
   "metadata": {
    "colab_type": "text",
    "id": "I0fcdiWvH2L_"
   },
   "source": [
    "Combine MNIST and MNIST-M images, to get the channel stats for normalisation"
   ]
  },
  {
   "cell_type": "code",
   "execution_count": 0,
   "metadata": {
    "colab": {},
    "colab_type": "code",
    "id": "fYnyXmI7H2L_"
   },
   "outputs": [],
   "source": [
    "all_train_domain_images = np.vstack((x_train, mnist_m_train_ls))\n",
    "channel_mean = all_train_domain_images.mean((0,1,2))"
   ]
  },
  {
   "cell_type": "code",
   "execution_count": 0,
   "metadata": {
    "colab": {},
    "colab_type": "code",
    "id": "Mf0h57juH2MB"
   },
   "outputs": [],
   "source": [
    "class BaselineModel(Model):\n",
    "  def __init__(self):\n",
    "    super(BaselineModel, self).__init__()\n",
    "    \n",
    "    self.normalise = lambda x: (tf.cast(x, tf.float64) - channel_mean) / 255.0\n",
    "    self.conv1 = Conv2D(64, 5, activation='relu')\n",
    "    self.conv2 = Conv2D(128, 5, activation='relu')\n",
    "    self.maxpool = MaxPool2D(2)\n",
    "    self.flatten = Flatten()\n",
    "    \n",
    "    self.d1 = Dense(128, activation='relu')\n",
    "    self.d2 = Dense(10, activation='softmax')\n",
    "    \n",
    "\n",
    "  def call(self, x):\n",
    "    x = self.normalise(x)\n",
    "    x = self.conv1(x)\n",
    "    x = self.conv2(x)\n",
    "    x = self.maxpool(x)\n",
    "    x = self.flatten(x)\n",
    "    x = self.d1(x)\n",
    "\n",
    "    return self.d2(x)\n",
    "\n",
    "model = BaselineModel()"
   ]
  },
  {
   "cell_type": "code",
   "execution_count": 0,
   "metadata": {
    "colab": {},
    "colab_type": "code",
    "id": "dYlLL-ntH2MB"
   },
   "outputs": [],
   "source": [
    "loss_object = tf.keras.losses.SparseCategoricalCrossentropy()\n",
    "optimizer = tf.keras.optimizers.Adam()"
   ]
  },
  {
   "cell_type": "markdown",
   "metadata": {
    "colab_type": "text",
    "id": "djbtR-SRH2MC"
   },
   "source": [
    "Need a separate loss accumulator for each train/test dataset"
   ]
  },
  {
   "cell_type": "code",
   "execution_count": 0,
   "metadata": {
    "colab": {},
    "colab_type": "code",
    "id": "669bZQ47H2MD"
   },
   "outputs": [],
   "source": [
    "train_loss = tf.keras.metrics.Mean(name='train_loss')\n",
    "train_accuracy = tf.keras.metrics.SparseCategoricalAccuracy(name='train_accuracy')\n",
    "\n",
    "test_loss = tf.keras.metrics.Mean(name='test_loss')\n",
    "test_accuracy = tf.keras.metrics.SparseCategoricalAccuracy(name='test_accuracy')\n",
    "\n",
    "m_test_loss = tf.keras.metrics.Mean(name='test_loss')\n",
    "m_test_accuracy = tf.keras.metrics.SparseCategoricalAccuracy(name='test_accuracy')"
   ]
  },
  {
   "cell_type": "markdown",
   "metadata": {
    "colab_type": "text",
    "id": "1In05mzSH2ME"
   },
   "source": [
    "Train and test ops"
   ]
  },
  {
   "cell_type": "code",
   "execution_count": 0,
   "metadata": {
    "colab": {},
    "colab_type": "code",
    "id": "t6ymFiMdH2ME"
   },
   "outputs": [],
   "source": [
    "@tf.function\n",
    "def train_step(images, labels):\n",
    "  with tf.GradientTape() as tape:\n",
    "    predictions = model(images)\n",
    "    loss = loss_object(labels, predictions)\n",
    "  gradients = tape.gradient(loss, model.trainable_variables)\n",
    "  optimizer.apply_gradients(zip(gradients, model.trainable_variables))\n",
    "\n",
    "  train_loss(loss)\n",
    "  train_accuracy(labels, predictions)"
   ]
  },
  {
   "cell_type": "code",
   "execution_count": 0,
   "metadata": {
    "colab": {},
    "colab_type": "code",
    "id": "JFKHom14H2MF"
   },
   "outputs": [],
   "source": [
    "@tf.function\n",
    "def test_step(mnist_images, labels, mnist_m_images, labels2):\n",
    "  predictions = model(mnist_images)\n",
    "  t_loss = loss_object(labels, predictions)\n",
    "\n",
    "  test_loss(t_loss)\n",
    "  test_accuracy(labels, predictions)\n",
    "\n",
    "  predictions = model(mnist_m_images)\n",
    "  t_loss = loss_object(labels2, predictions)\n",
    "    \n",
    "  m_test_loss(t_loss)\n",
    "  m_test_accuracy(labels2, predictions)"
   ]
  },
  {
   "cell_type": "code",
   "execution_count": 0,
   "metadata": {
    "colab": {},
    "colab_type": "code",
    "id": "-LZeYmDLH2MG"
   },
   "outputs": [],
   "source": [
    "def reset_metrics():\n",
    "    train_loss.reset_states()\n",
    "    train_accuracy.reset_states()\n",
    "    test_loss.reset_states()\n",
    "    test_accuracy.reset_states()\n",
    "    m_test_loss.reset_states()\n",
    "    m_test_accuracy.reset_states()"
   ]
  },
  {
   "cell_type": "markdown",
   "metadata": {
    "colab_type": "text",
    "id": "-7ANgVhDH2MH"
   },
   "source": [
    "Train on MNIST, evaluate on MNIST and MNIST-M"
   ]
  },
  {
   "cell_type": "code",
   "execution_count": 72,
   "metadata": {
    "colab": {
     "base_uri": "https://localhost:8080/",
     "height": 1000
    },
    "colab_type": "code",
    "id": "9b6P89cfH2MI",
    "outputId": "3712f047-dbc8-4236-d787-9fa607a7f654",
    "scrolled": true
   },
   "outputs": [
    {
     "name": "stdout",
     "output_type": "stream",
     "text": [
      "WARNING:tensorflow:Layer conv2d_10 is casting an input tensor from dtype float64 to the layer's dtype of float32, which is new behavior in TensorFlow 2.  The layer has dtype float32 because it's dtype defaults to floatx.\n",
      "\n",
      "If you intended to run this layer in float32, you can safely ignore this warning. If in doubt, this warning is likely only an issue if you are porting a TensorFlow 1.X model to TensorFlow 2.\n",
      "\n",
      "To change all layers to have dtype float64 by default, call `tf.keras.backend.set_floatx('float64')`. To change just this layer, pass dtype='float64' to the layer constructor. If you are the author of this layer, you can disable autocasting by passing autocast=False to the base Layer constructor.\n",
      "\n",
      "Epoch 1, Train Accuracy: 97.06166076660156, Source Test Accuracy: 98.67021179199219, Target Test Accuracy: 57.649147033691406\n",
      "Epoch 2, Train Accuracy: 98.88500213623047, Source Test Accuracy: 98.48182678222656, Target Test Accuracy: 58.24908447265625\n",
      "Epoch 3, Train Accuracy: 99.25167083740234, Source Test Accuracy: 98.891845703125, Target Test Accuracy: 56.715919494628906\n",
      "Epoch 4, Train Accuracy: 99.52666473388672, Source Test Accuracy: 98.82535552978516, Target Test Accuracy: 59.34895706176758\n",
      "Epoch 5, Train Accuracy: 99.60333251953125, Source Test Accuracy: 98.93617248535156, Target Test Accuracy: 50.249969482421875\n",
      "Epoch 6, Train Accuracy: 99.59333801269531, Source Test Accuracy: 98.96942138671875, Target Test Accuracy: 54.48283386230469\n",
      "Epoch 7, Train Accuracy: 99.68499755859375, Source Test Accuracy: 98.94725036621094, Target Test Accuracy: 54.438392639160156\n",
      "Epoch 8, Train Accuracy: 99.7699966430664, Source Test Accuracy: 99.06914520263672, Target Test Accuracy: 52.094207763671875\n",
      "Epoch 9, Train Accuracy: 99.75833129882812, Source Test Accuracy: 98.81427001953125, Target Test Accuracy: 59.48228073120117\n",
      "Epoch 10, Train Accuracy: 99.7733383178711, Source Test Accuracy: 98.84751892089844, Target Test Accuracy: 54.24952697753906\n",
      "Epoch 11, Train Accuracy: 99.77166748046875, Source Test Accuracy: 98.82535552978516, Target Test Accuracy: 57.28252410888672\n",
      "Epoch 12, Train Accuracy: 99.80500030517578, Source Test Accuracy: 98.86968231201172, Target Test Accuracy: 54.316184997558594\n",
      "Epoch 13, Train Accuracy: 99.80833435058594, Source Test Accuracy: 98.90292358398438, Target Test Accuracy: 56.17153549194336\n",
      "Epoch 14, Train Accuracy: 99.81666564941406, Source Test Accuracy: 98.75886535644531, Target Test Accuracy: 56.08266067504883\n",
      "Epoch 15, Train Accuracy: 99.82167053222656, Source Test Accuracy: 98.85860443115234, Target Test Accuracy: 54.59393310546875\n",
      "Epoch 16, Train Accuracy: 99.8933334350586, Source Test Accuracy: 99.01374053955078, Target Test Accuracy: 51.98311233520508\n",
      "Epoch 17, Train Accuracy: 99.85166931152344, Source Test Accuracy: 98.92508697509766, Target Test Accuracy: 53.016326904296875\n",
      "Epoch 18, Train Accuracy: 99.84333801269531, Source Test Accuracy: 99.09130859375, Target Test Accuracy: 55.54938507080078\n",
      "Epoch 19, Train Accuracy: 99.91500091552734, Source Test Accuracy: 98.90292358398438, Target Test Accuracy: 55.60493469238281\n",
      "Epoch 20, Train Accuracy: 99.89500427246094, Source Test Accuracy: 99.03590393066406, Target Test Accuracy: 52.08310317993164\n",
      "Epoch 21, Train Accuracy: 99.84833526611328, Source Test Accuracy: 99.16888427734375, Target Test Accuracy: 54.24952697753906\n",
      "Epoch 22, Train Accuracy: 99.87666320800781, Source Test Accuracy: 98.93617248535156, Target Test Accuracy: 59.08232498168945\n",
      "Epoch 23, Train Accuracy: 99.90166473388672, Source Test Accuracy: 99.05806732177734, Target Test Accuracy: 56.29374313354492\n",
      "Epoch 24, Train Accuracy: 99.84500122070312, Source Test Accuracy: 99.02481842041016, Target Test Accuracy: 56.94922637939453\n",
      "Epoch 25, Train Accuracy: 99.93499755859375, Source Test Accuracy: 98.9915771484375, Target Test Accuracy: 55.038326263427734\n",
      "Epoch 26, Train Accuracy: 99.86000061035156, Source Test Accuracy: 98.93617248535156, Target Test Accuracy: 56.66037368774414\n",
      "Epoch 27, Train Accuracy: 99.91166687011719, Source Test Accuracy: 99.0026626586914, Target Test Accuracy: 58.41572952270508\n",
      "Epoch 28, Train Accuracy: 99.91999816894531, Source Test Accuracy: 98.86968231201172, Target Test Accuracy: 52.08310317993164\n",
      "Epoch 29, Train Accuracy: 99.89666748046875, Source Test Accuracy: 98.9915771484375, Target Test Accuracy: 51.860904693603516\n",
      "Epoch 30, Train Accuracy: 99.8883285522461, Source Test Accuracy: 98.9915771484375, Target Test Accuracy: 49.250083923339844\n",
      "Epoch 31, Train Accuracy: 99.91000366210938, Source Test Accuracy: 98.94725036621094, Target Test Accuracy: 50.249969482421875\n",
      "Epoch 32, Train Accuracy: 99.91666412353516, Source Test Accuracy: 98.9915771484375, Target Test Accuracy: 54.60504150390625\n",
      "Epoch 33, Train Accuracy: 99.89833068847656, Source Test Accuracy: 99.02481842041016, Target Test Accuracy: 55.227195739746094\n",
      "Epoch 34, Train Accuracy: 99.90666198730469, Source Test Accuracy: 98.94725036621094, Target Test Accuracy: 53.971778869628906\n",
      "Epoch 35, Train Accuracy: 99.92166900634766, Source Test Accuracy: 98.86968231201172, Target Test Accuracy: 53.40517807006836\n",
      "Epoch 36, Train Accuracy: 99.91500091552734, Source Test Accuracy: 99.11347961425781, Target Test Accuracy: 55.816017150878906\n",
      "Epoch 37, Train Accuracy: 99.90333557128906, Source Test Accuracy: 99.14672088623047, Target Test Accuracy: 58.526832580566406\n",
      "Epoch 38, Train Accuracy: 99.92333221435547, Source Test Accuracy: 99.09130859375, Target Test Accuracy: 55.59382629394531\n",
      "Epoch 39, Train Accuracy: 99.92500305175781, Source Test Accuracy: 99.09130859375, Target Test Accuracy: 57.649147033691406\n",
      "Epoch 40, Train Accuracy: 99.93333435058594, Source Test Accuracy: 98.95832824707031, Target Test Accuracy: 51.627593994140625\n",
      "Epoch 41, Train Accuracy: 99.91000366210938, Source Test Accuracy: 99.0026626586914, Target Test Accuracy: 54.0384407043457\n",
      "Epoch 42, Train Accuracy: 99.96333312988281, Source Test Accuracy: 99.09130859375, Target Test Accuracy: 55.9715576171875\n",
      "Epoch 43, Train Accuracy: 99.8933334350586, Source Test Accuracy: 99.13563537597656, Target Test Accuracy: 55.59382629394531\n",
      "Epoch 44, Train Accuracy: 99.9433364868164, Source Test Accuracy: 99.05806732177734, Target Test Accuracy: 50.027774810791016\n",
      "Epoch 45, Train Accuracy: 99.93499755859375, Source Test Accuracy: 99.11347961425781, Target Test Accuracy: 51.03877258300781\n",
      "Epoch 46, Train Accuracy: 99.94999694824219, Source Test Accuracy: 99.22429656982422, Target Test Accuracy: 54.60504150390625\n",
      "Epoch 47, Train Accuracy: 99.94999694824219, Source Test Accuracy: 98.98049926757812, Target Test Accuracy: 52.88301086425781\n",
      "Epoch 48, Train Accuracy: 99.90833282470703, Source Test Accuracy: 99.13563537597656, Target Test Accuracy: 56.7936897277832\n",
      "Epoch 49, Train Accuracy: 99.9383316040039, Source Test Accuracy: 99.16888427734375, Target Test Accuracy: 55.74936294555664\n",
      "Epoch 50, Train Accuracy: 99.94166564941406, Source Test Accuracy: 99.2021255493164, Target Test Accuracy: 58.33796310424805\n",
      "Epoch 51, Train Accuracy: 99.94666290283203, Source Test Accuracy: 98.96942138671875, Target Test Accuracy: 57.66025924682617\n",
      "Epoch 52, Train Accuracy: 99.91999816894531, Source Test Accuracy: 99.22429656982422, Target Test Accuracy: 57.00477981567383\n",
      "Epoch 53, Train Accuracy: 99.93333435058594, Source Test Accuracy: 99.19104766845703, Target Test Accuracy: 56.82701873779297\n",
      "Epoch 54, Train Accuracy: 99.9766616821289, Source Test Accuracy: 99.04698944091797, Target Test Accuracy: 54.82724380493164\n",
      "Epoch 55, Train Accuracy: 99.91500091552734, Source Test Accuracy: 99.2021255493164, Target Test Accuracy: 61.204307556152344\n",
      "Epoch 56, Train Accuracy: 99.94833374023438, Source Test Accuracy: 99.22429656982422, Target Test Accuracy: 59.24897003173828\n",
      "Epoch 57, Train Accuracy: 99.94000244140625, Source Test Accuracy: 99.05806732177734, Target Test Accuracy: 52.60526657104492\n",
      "Epoch 58, Train Accuracy: 99.9383316040039, Source Test Accuracy: 99.15780639648438, Target Test Accuracy: 53.2940788269043\n",
      "Epoch 59, Train Accuracy: 99.96833038330078, Source Test Accuracy: 99.1023941040039, Target Test Accuracy: 55.18275451660156\n",
      "Epoch 60, Train Accuracy: 99.9566650390625, Source Test Accuracy: 99.15780639648438, Target Test Accuracy: 55.982666015625\n",
      "Epoch 61, Train Accuracy: 99.97000122070312, Source Test Accuracy: 99.1023941040039, Target Test Accuracy: 56.415950775146484\n",
      "Epoch 62, Train Accuracy: 99.93000030517578, Source Test Accuracy: 99.03590393066406, Target Test Accuracy: 56.10487365722656\n",
      "Epoch 63, Train Accuracy: 99.96833038330078, Source Test Accuracy: 99.12455749511719, Target Test Accuracy: 54.816131591796875\n",
      "Epoch 64, Train Accuracy: 99.94499969482422, Source Test Accuracy: 99.15780639648438, Target Test Accuracy: 56.01599884033203\n",
      "Epoch 65, Train Accuracy: 99.9433364868164, Source Test Accuracy: 99.24645233154297, Target Test Accuracy: 57.94911193847656\n",
      "Epoch 66, Train Accuracy: 99.96499633789062, Source Test Accuracy: 99.09130859375, Target Test Accuracy: 54.90501022338867\n",
      "Epoch 67, Train Accuracy: 99.98500061035156, Source Test Accuracy: 99.12455749511719, Target Test Accuracy: 53.927345275878906\n",
      "Epoch 68, Train Accuracy: 99.93167114257812, Source Test Accuracy: 99.08023071289062, Target Test Accuracy: 56.90478515625\n",
      "Epoch 69, Train Accuracy: 99.95166778564453, Source Test Accuracy: 98.83643341064453, Target Test Accuracy: 55.738250732421875\n",
      "Epoch 70, Train Accuracy: 99.95500183105469, Source Test Accuracy: 98.86968231201172, Target Test Accuracy: 54.22731018066406\n",
      "Epoch 71, Train Accuracy: 99.94666290283203, Source Test Accuracy: 99.16888427734375, Target Test Accuracy: 58.20464324951172\n",
      "Epoch 72, Train Accuracy: 99.97333526611328, Source Test Accuracy: 98.9915771484375, Target Test Accuracy: 58.66014862060547\n",
      "Epoch 73, Train Accuracy: 99.94166564941406, Source Test Accuracy: 98.96942138671875, Target Test Accuracy: 59.137874603271484\n",
      "Epoch 74, Train Accuracy: 99.97333526611328, Source Test Accuracy: 99.04698944091797, Target Test Accuracy: 57.104766845703125\n",
      "Epoch 75, Train Accuracy: 99.95333862304688, Source Test Accuracy: 98.9915771484375, Target Test Accuracy: 56.738136291503906\n",
      "Epoch 76, Train Accuracy: 99.95333862304688, Source Test Accuracy: 99.04698944091797, Target Test Accuracy: 55.771583557128906\n",
      "Epoch 77, Train Accuracy: 99.96333312988281, Source Test Accuracy: 99.1023941040039, Target Test Accuracy: 57.41584396362305\n",
      "Epoch 78, Train Accuracy: 99.95999908447266, Source Test Accuracy: 99.1023941040039, Target Test Accuracy: 57.982444763183594\n",
      "Epoch 79, Train Accuracy: 99.9566650390625, Source Test Accuracy: 99.13563537597656, Target Test Accuracy: 55.82712936401367\n",
      "Epoch 80, Train Accuracy: 99.961669921875, Source Test Accuracy: 99.01374053955078, Target Test Accuracy: 50.4610595703125\n",
      "Epoch 81, Train Accuracy: 99.95832824707031, Source Test Accuracy: 99.12455749511719, Target Test Accuracy: 53.36073684692383\n",
      "Epoch 82, Train Accuracy: 99.96333312988281, Source Test Accuracy: 99.13563537597656, Target Test Accuracy: 54.90501022338867\n",
      "Epoch 83, Train Accuracy: 99.94999694824219, Source Test Accuracy: 99.06914520263672, Target Test Accuracy: 54.993892669677734\n",
      "Epoch 84, Train Accuracy: 99.97333526611328, Source Test Accuracy: 99.16888427734375, Target Test Accuracy: 56.12709426879883\n",
      "Epoch 85, Train Accuracy: 99.97166442871094, Source Test Accuracy: 98.95832824707031, Target Test Accuracy: 54.68281555175781\n",
      "Epoch 86, Train Accuracy: 99.9566650390625, Source Test Accuracy: 99.11347961425781, Target Test Accuracy: 52.2386360168457\n",
      "Epoch 87, Train Accuracy: 99.96333312988281, Source Test Accuracy: 99.08023071289062, Target Test Accuracy: 52.316410064697266\n",
      "Epoch 88, Train Accuracy: 99.96833038330078, Source Test Accuracy: 99.15780639648438, Target Test Accuracy: 49.983333587646484\n",
      "Epoch 89, Train Accuracy: 99.99666595458984, Source Test Accuracy: 99.11347961425781, Target Test Accuracy: 52.049774169921875\n",
      "Epoch 90, Train Accuracy: 99.96333312988281, Source Test Accuracy: 98.98049926757812, Target Test Accuracy: 51.4498405456543\n",
      "Epoch 91, Train Accuracy: 99.94000244140625, Source Test Accuracy: 99.08023071289062, Target Test Accuracy: 53.14965057373047\n",
      "Epoch 92, Train Accuracy: 99.97166442871094, Source Test Accuracy: 99.12455749511719, Target Test Accuracy: 57.8046875\n",
      "Epoch 93, Train Accuracy: 99.95500183105469, Source Test Accuracy: 99.19104766845703, Target Test Accuracy: 56.727027893066406\n",
      "Epoch 94, Train Accuracy: 99.97000122070312, Source Test Accuracy: 99.09130859375, Target Test Accuracy: 55.449398040771484\n",
      "Epoch 95, Train Accuracy: 99.96499633789062, Source Test Accuracy: 99.03590393066406, Target Test Accuracy: 54.67170333862305\n",
      "Epoch 96, Train Accuracy: 99.96499633789062, Source Test Accuracy: 99.15780639648438, Target Test Accuracy: 58.61570739746094\n",
      "Epoch 97, Train Accuracy: 99.97333526611328, Source Test Accuracy: 99.09130859375, Target Test Accuracy: 54.79391098022461\n",
      "Epoch 98, Train Accuracy: 99.96833038330078, Source Test Accuracy: 99.12455749511719, Target Test Accuracy: 59.23786163330078\n",
      "Epoch 99, Train Accuracy: 99.9766616821289, Source Test Accuracy: 99.21320343017578, Target Test Accuracy: 55.538272857666016\n",
      "Epoch 100, Train Accuracy: 99.97333526611328, Source Test Accuracy: 99.08023071289062, Target Test Accuracy: 54.893898010253906\n"
     ]
    }
   ],
   "source": [
    "EPOCHS = 100\n",
    "\n",
    "for epoch in range(EPOCHS):\n",
    "  reset_metrics()\n",
    "  for images, labels in train_ds:\n",
    "    train_step(images, labels)\n",
    "\n",
    "  for test_data, m_test_data in zip(test_ds,mnist_m_test_ds):\n",
    "    test_step(test_data[0], test_data[1], m_test_data[0], m_test_data[1])\n",
    "    \n",
    "  template = 'Epoch {}, Train Accuracy: {}, Source Test Accuracy: {}, Target Test Accuracy: {}'\n",
    "  print (template.format(epoch+1,\n",
    "                         train_accuracy.result()*100,\n",
    "                         test_accuracy.result()*100,\n",
    "                         m_test_accuracy.result()*100,))\n"
   ]
  },
  {
   "cell_type": "markdown",
   "metadata": {
    "colab_type": "text",
    "id": "mhE3yGd2H2MJ"
   },
   "source": [
    "## Domain confusion\n",
    "Build separate components so that distinct sets of gradients are easily accessed:\n",
    "\n",
    "- feature generator\n",
    "- label classifier \n",
    "- domain classifier "
   ]
  },
  {
   "cell_type": "code",
   "execution_count": 0,
   "metadata": {
    "colab": {},
    "colab_type": "code",
    "id": "4Vb4mGKwH2MJ"
   },
   "outputs": [],
   "source": [
    "class FeatureGenerator(Model):\n",
    "  def __init__(self):\n",
    "    super(FeatureGenerator, self).__init__() \n",
    "    self.normalise = lambda x: (tf.cast(x, tf.float64) - channel_mean) / 255.0\n",
    "    self.conv1 = Conv2D(64, 5, activation='relu')\n",
    "    self.conv2 = Conv2D(128, 5, activation='relu')\n",
    "    self.maxpool = MaxPool2D(2)\n",
    "    self.flatten = Flatten()\n",
    "    \n",
    "  def call(self, x):\n",
    "    x = self.normalise(x)\n",
    "    x = self.conv1(x)\n",
    "    x = self.conv2(x)\n",
    "    x = self.maxpool(x)\n",
    "\n",
    "    return self.flatten(x)\n",
    "\n",
    "feature_generator = FeatureGenerator()"
   ]
  },
  {
   "cell_type": "code",
   "execution_count": 0,
   "metadata": {
    "colab": {},
    "colab_type": "code",
    "id": "4OqlhZtxH2MK"
   },
   "outputs": [],
   "source": [
    "class LabelPredictor(Model):\n",
    "  def __init__(self):\n",
    "    super(LabelPredictor, self).__init__() \n",
    "    self.d1 = Dense(128, activation='relu')\n",
    "    self.d2 = Dense(10, activation='softmax')\n",
    "    \n",
    "\n",
    "  def call(self, feats):  \n",
    "    feats = self.d1(feats)\n",
    "\n",
    "    return self.d2(feats)\n",
    "\n",
    "label_predictor = LabelPredictor()"
   ]
  },
  {
   "cell_type": "code",
   "execution_count": 0,
   "metadata": {
    "colab": {},
    "colab_type": "code",
    "id": "TTC5gqXkH2ML"
   },
   "outputs": [],
   "source": [
    "class DomainPredictor(Model):\n",
    "  def __init__(self):\n",
    "    super(DomainPredictor, self).__init__()   \n",
    "    self.d3 = Dense(64, activation='relu')\n",
    "    self.d4 = Dense(2, activation='softmax')\n",
    "\n",
    "  def call(self, feats):\n",
    "    feats = self.d3(feats)\n",
    "    \n",
    "    return self.d4(feats)\n",
    "\n",
    "domain_predictor = DomainPredictor()"
   ]
  },
  {
   "cell_type": "markdown",
   "metadata": {
    "colab_type": "text",
    "id": "RAvHvQHFH2MM"
   },
   "source": [
    "Make second training dataset of MNIST and MNIST-M images and their respective domains"
   ]
  },
  {
   "cell_type": "code",
   "execution_count": 0,
   "metadata": {
    "colab": {},
    "colab_type": "code",
    "id": "jHeWfO05H2MM"
   },
   "outputs": [],
   "source": [
    "x_train_domain_labels = np.ones([len(x_train)])\n",
    "mnist_m_train_domain_labels = np.zeros([len(mnist_m_train_ls)])\n",
    "all_train_domain_labels = np.hstack((x_train_domain_labels, mnist_m_train_domain_labels))\n",
    "\n",
    "domain_train_ds = tf.data.Dataset.from_tensor_slices(\n",
    "    (all_train_domain_images, tf.cast(all_train_domain_labels, tf.int8))).shuffle(60000).batch(32)"
   ]
  },
  {
   "cell_type": "markdown",
   "metadata": {
    "colab_type": "text",
    "id": "VD5Qut4rH2MN"
   },
   "source": [
    "Separate optimizers to allow different learning rates"
   ]
  },
  {
   "cell_type": "code",
   "execution_count": 0,
   "metadata": {
    "colab": {},
    "colab_type": "code",
    "id": "d3FZ426LH2MP"
   },
   "outputs": [],
   "source": [
    "loss_object = tf.keras.losses.SparseCategoricalCrossentropy()\n",
    "d_optimizer = tf.keras.optimizers.Adam(learning_rate=0.001)\n",
    "f_optimizer = tf.keras.optimizers.Adam(learning_rate=0.001)"
   ]
  },
  {
   "cell_type": "markdown",
   "metadata": {
    "colab_type": "text",
    "id": "buvyN3xdH2MQ"
   },
   "source": [
    "Discriminative losses"
   ]
  },
  {
   "cell_type": "code",
   "execution_count": 0,
   "metadata": {
    "colab": {},
    "colab_type": "code",
    "id": "I6zuB2oaH2MQ"
   },
   "outputs": [],
   "source": [
    "train_loss = tf.keras.metrics.Mean(name='train_loss')\n",
    "train_accuracy = tf.keras.metrics.SparseCategoricalAccuracy(name='train_accuracy')\n",
    "\n",
    "test_loss = tf.keras.metrics.Mean(name='test_loss')\n",
    "test_accuracy = tf.keras.metrics.SparseCategoricalAccuracy(name='test_accuracy')\n",
    "\n",
    "m_test_loss = tf.keras.metrics.Mean(name='m_test_loss')\n",
    "m_test_accuracy = tf.keras.metrics.SparseCategoricalAccuracy(name='m_test_accuracy')"
   ]
  },
  {
   "cell_type": "markdown",
   "metadata": {
    "colab_type": "text",
    "id": "1OSgakEbH2MR"
   },
   "source": [
    "Confusion loss"
   ]
  },
  {
   "cell_type": "code",
   "execution_count": 0,
   "metadata": {
    "colab": {},
    "colab_type": "code",
    "id": "6AhcL5FaH2MR"
   },
   "outputs": [],
   "source": [
    "conf_train_loss = tf.keras.metrics.Mean(name='c_train_loss')\n",
    "conf_train_accuracy = tf.keras.metrics.SparseCategoricalAccuracy(name='c_train_accuracy')"
   ]
  },
  {
   "cell_type": "markdown",
   "metadata": {
    "colab_type": "text",
    "id": "xGeFl1tbH2MS"
   },
   "source": [
    "## Adversarial loss"
   ]
  },
  {
   "cell_type": "markdown",
   "metadata": {
    "colab_type": "text",
    "id": "2qTugzn7H2MS"
   },
   "source": [
    "There are three sets of parameters to update, one for each component of the model. Label and domain classifiers are updated in the usual way. Parameters of the feature generator are updated using the standard gradient backpropagated from the label classifier, summed with the reverse of the gradient from the domain classifier; the feature generator learns to confound the domain classifier, resulting in domain invariant features which should be useful for general performance.\n",
    "\n",
    "\n",
    "<img src=\"DANN_architecture.png\" style=\"width: 600px;\">\n",
    "\n",
    "\n",
    "Image taken from: https://arxiv.org/pdf/1409.7495.pdf"
   ]
  },
  {
   "cell_type": "code",
   "execution_count": 0,
   "metadata": {
    "colab": {},
    "colab_type": "code",
    "id": "_jfXBTueH2MS"
   },
   "outputs": [],
   "source": [
    "@tf.function\n",
    "def train_step(images, labels, images2, domains, alpha):\n",
    "    \n",
    "  \"\"\"\n",
    "  i. images = batch of source images\n",
    "  ii. labels = corresponding labels\n",
    "  iii. images2 = batch of source and target images\n",
    "  iv. domains = corresponding domain labels\n",
    "  v. alpha = weight attributed to the domain loss\n",
    "  \"\"\"\n",
    "    \n",
    "  ## Update the generator and the classifier\n",
    "  with tf.GradientTape(persistent=True) as tape:\n",
    "    features = feature_generator(images)\n",
    "    l_predictions = label_predictor(features)\n",
    "    features = feature_generator(images2)\n",
    "    d_predictions = domain_predictor(features)\n",
    "    label_loss = loss_object(labels, l_predictions)\n",
    "    domain_loss = loss_object(domains, d_predictions)\n",
    "    \n",
    "  f_gradients_on_label_loss = tape.gradient(label_loss, feature_generator.trainable_variables)\n",
    "  f_gradients_on_domain_loss = tape.gradient(domain_loss, feature_generator.trainable_variables)    \n",
    "  f_gradients = [f_gradients_on_label_loss[i] - alpha*f_gradients_on_domain_loss[\n",
    "      i] for i in range(len(f_gradients_on_domain_loss))]\n",
    "\n",
    "    \n",
    "  l_gradients = tape.gradient(label_loss, label_predictor.trainable_variables)\n",
    "\n",
    "  f_optimizer.apply_gradients(zip(f_gradients+l_gradients, \n",
    "                                  feature_generator.trainable_variables+label_predictor.trainable_variables)) \n",
    "    \n",
    "    \n",
    "  ## Update the discriminator: Comment this bit to complete all updates in one step. Asynchronous updating \n",
    "  ## seems to work a bit better, with better accuracy and stability, but may take longer to train    \n",
    "  with tf.GradientTape() as tape:\n",
    "    features = feature_generator(images2)\n",
    "    d_predictions = domain_predictor(features)\n",
    "    domain_loss = loss_object(domains, d_predictions)\n",
    "  #####\n",
    "   \n",
    "  d_gradients = tape.gradient(domain_loss, domain_predictor.trainable_variables)  \n",
    "  d_gradients = [alpha*i for i in d_gradients]\n",
    "  d_optimizer.apply_gradients(zip(d_gradients, domain_predictor.trainable_variables))\n",
    "  \n",
    "    \n",
    "    \n",
    "  train_loss(label_loss)\n",
    "  train_accuracy(labels, l_predictions)\n",
    "  conf_train_loss(domain_loss)\n",
    "  conf_train_accuracy(domains, d_predictions)"
   ]
  },
  {
   "cell_type": "code",
   "execution_count": 0,
   "metadata": {
    "colab": {},
    "colab_type": "code",
    "id": "Q-8GONwqH2MT"
   },
   "outputs": [],
   "source": [
    "@tf.function\n",
    "def test_step(mnist_images, labels, mnist_m_images, labels2):\n",
    "  features = feature_generator(mnist_images)\n",
    "  predictions = label_predictor(features)\n",
    "  t_loss = loss_object(labels, predictions)\n",
    "\n",
    "  test_loss(t_loss)\n",
    "  test_accuracy(labels, predictions)\n",
    "\n",
    "  features = feature_generator(mnist_m_images)\n",
    "  predictions = label_predictor(features)\n",
    "  t_loss = loss_object(labels2, predictions)\n",
    "    \n",
    "  m_test_loss(t_loss)\n",
    "  m_test_accuracy(labels2, predictions)"
   ]
  },
  {
   "cell_type": "code",
   "execution_count": 0,
   "metadata": {
    "colab": {},
    "colab_type": "code",
    "id": "c1YDFxqdH2MU"
   },
   "outputs": [],
   "source": [
    "def reset_metrics():\n",
    "    train_loss.reset_states()\n",
    "    train_accuracy.reset_states()\n",
    "    test_loss.reset_states()\n",
    "    test_accuracy.reset_states()\n",
    "    m_test_loss.reset_states()\n",
    "    m_test_accuracy.reset_states()"
   ]
  },
  {
   "cell_type": "markdown",
   "metadata": {
    "colab_type": "text",
    "id": "80DLte96H2MV"
   },
   "source": [
    "Train and evaluate. May need > 100 epochs for convergence"
   ]
  },
  {
   "cell_type": "code",
   "execution_count": 57,
   "metadata": {
    "colab": {
     "base_uri": "https://localhost:8080/",
     "height": 1000
    },
    "colab_type": "code",
    "id": "TAEV-vrfH2MV",
    "outputId": "d32cd27c-9127-44e6-b170-bd2cc45f1326",
    "scrolled": true
   },
   "outputs": [
    {
     "name": "stdout",
     "output_type": "stream",
     "text": [
      "WARNING:tensorflow:Layer conv2d_6 is casting an input tensor from dtype float64 to the layer's dtype of float32, which is new behavior in TensorFlow 2.  The layer has dtype float32 because it's dtype defaults to floatx.\n",
      "\n",
      "If you intended to run this layer in float32, you can safely ignore this warning. If in doubt, this warning is likely only an issue if you are porting a TensorFlow 1.X model to TensorFlow 2.\n",
      "\n",
      "To change all layers to have dtype float64 by default, call `tf.keras.backend.set_floatx('float64')`. To change just this layer, pass dtype='float64' to the layer constructor. If you are the author of this layer, you can disable autocasting by passing autocast=False to the base Layer constructor.\n",
      "\n",
      "Epoch 1, Train Accuracy: 85.02667236328125, Domain Accuracy: 76.75167083740234, Source Test Accuracy: 94.37056732177734, Target Test Accuracy: 48.861236572265625\n",
      "Epoch 2, Train Accuracy: 96.3516616821289, Domain Accuracy: 71.64749908447266, Source Test Accuracy: 97.30718231201172, Target Test Accuracy: 53.694034576416016\n",
      "Epoch 3, Train Accuracy: 96.4383316040039, Domain Accuracy: 69.13944244384766, Source Test Accuracy: 97.4401626586914, Target Test Accuracy: 57.8713493347168\n",
      "Epoch 4, Train Accuracy: 96.30332946777344, Domain Accuracy: 68.1383285522461, Source Test Accuracy: 96.86392211914062, Target Test Accuracy: 51.216529846191406\n",
      "Epoch 5, Train Accuracy: 79.55833435058594, Domain Accuracy: 67.33699798583984, Source Test Accuracy: 74.06914520263672, Target Test Accuracy: 33.0296630859375\n",
      "Epoch 6, Train Accuracy: 87.45166778564453, Domain Accuracy: 66.73138427734375, Source Test Accuracy: 92.5421142578125, Target Test Accuracy: 38.18464660644531\n",
      "Epoch 7, Train Accuracy: 95.36833190917969, Domain Accuracy: 66.25381469726562, Source Test Accuracy: 97.50664520263672, Target Test Accuracy: 50.4610595703125\n",
      "Epoch 8, Train Accuracy: 91.29499816894531, Domain Accuracy: 68.01583099365234, Source Test Accuracy: 85.42774963378906, Target Test Accuracy: 29.085657119750977\n",
      "Epoch 9, Train Accuracy: 92.87666320800781, Domain Accuracy: 71.31370544433594, Source Test Accuracy: 95.68927001953125, Target Test Accuracy: 38.040218353271484\n",
      "Epoch 10, Train Accuracy: 96.34666442871094, Domain Accuracy: 73.96133422851562, Source Test Accuracy: 96.05496215820312, Target Test Accuracy: 43.67292404174805\n",
      "Epoch 11, Train Accuracy: 96.03499603271484, Domain Accuracy: 74.49666595458984, Source Test Accuracy: 96.18794250488281, Target Test Accuracy: 59.5489387512207\n",
      "Epoch 12, Train Accuracy: 96.45833587646484, Domain Accuracy: 74.9433364868164, Source Test Accuracy: 96.48714447021484, Target Test Accuracy: 57.67136764526367\n",
      "Epoch 13, Train Accuracy: 96.52666473388672, Domain Accuracy: 75.39820861816406, Source Test Accuracy: 96.9858169555664, Target Test Accuracy: 57.7158088684082\n",
      "Epoch 14, Train Accuracy: 96.57166290283203, Domain Accuracy: 75.38678741455078, Source Test Accuracy: 97.6396255493164, Target Test Accuracy: 66.49261474609375\n",
      "Epoch 15, Train Accuracy: 96.69667053222656, Domain Accuracy: 75.34933471679688, Source Test Accuracy: 97.39582824707031, Target Test Accuracy: 67.44805908203125\n",
      "Epoch 16, Train Accuracy: 97.0999984741211, Domain Accuracy: 75.32281494140625, Source Test Accuracy: 96.78634643554688, Target Test Accuracy: 69.9144515991211\n",
      "Epoch 17, Train Accuracy: 97.36833190917969, Domain Accuracy: 75.2872543334961, Source Test Accuracy: 97.86125946044922, Target Test Accuracy: 70.34774017333984\n",
      "Epoch 18, Train Accuracy: 97.6066665649414, Domain Accuracy: 75.21620178222656, Source Test Accuracy: 97.68395233154297, Target Test Accuracy: 73.02522277832031\n",
      "Epoch 19, Train Accuracy: 97.70166778564453, Domain Accuracy: 75.1433334350586, Source Test Accuracy: 98.03856658935547, Target Test Accuracy: 73.44739532470703\n",
      "Epoch 20, Train Accuracy: 97.79499816894531, Domain Accuracy: 75.045166015625, Source Test Accuracy: 97.81693267822266, Target Test Accuracy: 74.60282135009766\n",
      "Epoch 21, Train Accuracy: 97.96666717529297, Domain Accuracy: 74.97801971435547, Source Test Accuracy: 97.73936462402344, Target Test Accuracy: 74.03621673583984\n",
      "Epoch 22, Train Accuracy: 98.08333587646484, Domain Accuracy: 74.8896255493164, Source Test Accuracy: 97.72827911376953, Target Test Accuracy: 74.00288391113281\n",
      "Epoch 23, Train Accuracy: 98.07999420166016, Domain Accuracy: 74.81210327148438, Source Test Accuracy: 97.62854766845703, Target Test Accuracy: 75.62493133544922\n",
      "Epoch 24, Train Accuracy: 98.31500244140625, Domain Accuracy: 74.75277709960938, Source Test Accuracy: 97.35150909423828, Target Test Accuracy: 74.93611907958984\n",
      "Epoch 25, Train Accuracy: 98.288330078125, Domain Accuracy: 74.67573547363281, Source Test Accuracy: 97.85018157958984, Target Test Accuracy: 75.2471923828125\n",
      "Epoch 26, Train Accuracy: 98.3499984741211, Domain Accuracy: 74.6058349609375, Source Test Accuracy: 98.06072998046875, Target Test Accuracy: 73.60293579101562\n",
      "Epoch 27, Train Accuracy: 98.47833251953125, Domain Accuracy: 74.5466079711914, Source Test Accuracy: 97.69503784179688, Target Test Accuracy: 76.35818481445312\n",
      "Epoch 28, Train Accuracy: 98.63333129882812, Domain Accuracy: 74.48999786376953, Source Test Accuracy: 97.81693267822266, Target Test Accuracy: 75.191650390625\n",
      "Epoch 29, Train Accuracy: 98.38667297363281, Domain Accuracy: 74.44402313232422, Source Test Accuracy: 98.10505676269531, Target Test Accuracy: 77.0914306640625\n",
      "Epoch 30, Train Accuracy: 98.7699966430664, Domain Accuracy: 74.40888977050781, Source Test Accuracy: 97.78369140625, Target Test Accuracy: 75.70269775390625\n",
      "Epoch 31, Train Accuracy: 98.59166717529297, Domain Accuracy: 74.36801147460938, Source Test Accuracy: 98.11613464355469, Target Test Accuracy: 74.336181640625\n",
      "Epoch 32, Train Accuracy: 98.6050033569336, Domain Accuracy: 74.29708099365234, Source Test Accuracy: 97.97207641601562, Target Test Accuracy: 78.82457733154297\n",
      "Epoch 33, Train Accuracy: 98.6933364868164, Domain Accuracy: 74.23727416992188, Source Test Accuracy: 98.13829803466797, Target Test Accuracy: 76.51371765136719\n",
      "Epoch 34, Train Accuracy: 98.80999755859375, Domain Accuracy: 74.18754577636719, Source Test Accuracy: 98.04964447021484, Target Test Accuracy: 77.68025970458984\n",
      "Epoch 35, Train Accuracy: 98.81832885742188, Domain Accuracy: 74.14833068847656, Source Test Accuracy: 98.02748107910156, Target Test Accuracy: 78.30241394042969\n",
      "Epoch 36, Train Accuracy: 98.8116683959961, Domain Accuracy: 74.10393524169922, Source Test Accuracy: 98.18262481689453, Target Test Accuracy: 78.38018035888672\n",
      "Epoch 37, Train Accuracy: 98.85166931152344, Domain Accuracy: 74.06193542480469, Source Test Accuracy: 97.81693267822266, Target Test Accuracy: 76.3248519897461\n",
      "Epoch 38, Train Accuracy: 98.92500305175781, Domain Accuracy: 74.02860260009766, Source Test Accuracy: 97.76152038574219, Target Test Accuracy: 79.43561553955078\n",
      "Epoch 39, Train Accuracy: 98.9383316040039, Domain Accuracy: 74.00572967529297, Source Test Accuracy: 97.78369140625, Target Test Accuracy: 79.03565979003906\n",
      "Epoch 40, Train Accuracy: 98.99832916259766, Domain Accuracy: 73.9775390625, Source Test Accuracy: 97.38475036621094, Target Test Accuracy: 77.53583526611328\n",
      "Epoch 41, Train Accuracy: 98.83999633789062, Domain Accuracy: 73.96215057373047, Source Test Accuracy: 98.01639556884766, Target Test Accuracy: 77.52471923828125\n",
      "Epoch 42, Train Accuracy: 99.03333282470703, Domain Accuracy: 73.9544448852539, Source Test Accuracy: 98.06072998046875, Target Test Accuracy: 76.36929321289062\n",
      "Epoch 43, Train Accuracy: 99.02166748046875, Domain Accuracy: 73.94189453125, Source Test Accuracy: 98.04964447021484, Target Test Accuracy: 77.38029479980469\n",
      "Epoch 44, Train Accuracy: 99.0999984741211, Domain Accuracy: 73.92326354980469, Source Test Accuracy: 97.92774963378906, Target Test Accuracy: 76.9025650024414\n",
      "Epoch 45, Train Accuracy: 99.07167053222656, Domain Accuracy: 73.90996551513672, Source Test Accuracy: 97.8723373413086, Target Test Accuracy: 79.33563232421875\n",
      "Epoch 46, Train Accuracy: 99.07833099365234, Domain Accuracy: 73.90579223632812, Source Test Accuracy: 97.65070343017578, Target Test Accuracy: 78.1801986694336\n",
      "Epoch 47, Train Accuracy: 99.14833068847656, Domain Accuracy: 73.90510559082031, Source Test Accuracy: 97.80585479736328, Target Test Accuracy: 78.65792846679688\n",
      "Epoch 48, Train Accuracy: 99.18333435058594, Domain Accuracy: 73.90843963623047, Source Test Accuracy: 97.96099090576172, Target Test Accuracy: 79.60226440429688\n",
      "Epoch 49, Train Accuracy: 99.06999969482422, Domain Accuracy: 73.90650177001953, Source Test Accuracy: 97.8834228515625, Target Test Accuracy: 79.49116516113281\n",
      "Epoch 50, Train Accuracy: 99.19000244140625, Domain Accuracy: 73.90216827392578, Source Test Accuracy: 97.92774963378906, Target Test Accuracy: 80.7132568359375\n",
      "Epoch 51, Train Accuracy: 99.20832824707031, Domain Accuracy: 73.90320587158203, Source Test Accuracy: 97.5398941040039, Target Test Accuracy: 77.90245056152344\n",
      "Epoch 52, Train Accuracy: 99.16333770751953, Domain Accuracy: 73.89913177490234, Source Test Accuracy: 98.1937026977539, Target Test Accuracy: 81.32429504394531\n",
      "Epoch 53, Train Accuracy: 99.22333526611328, Domain Accuracy: 73.9020767211914, Source Test Accuracy: 97.96099090576172, Target Test Accuracy: 80.83546447753906\n",
      "Epoch 54, Train Accuracy: 99.19166564941406, Domain Accuracy: 73.91059112548828, Source Test Accuracy: 97.96099090576172, Target Test Accuracy: 78.95789337158203\n",
      "Epoch 55, Train Accuracy: 99.01499938964844, Domain Accuracy: 73.89411926269531, Source Test Accuracy: 97.89450073242188, Target Test Accuracy: 75.86934661865234\n",
      "Epoch 56, Train Accuracy: 99.22166442871094, Domain Accuracy: 73.8820571899414, Source Test Accuracy: 97.94991302490234, Target Test Accuracy: 79.94667053222656\n",
      "Epoch 57, Train Accuracy: 99.22166442871094, Domain Accuracy: 73.88213348388672, Source Test Accuracy: 97.39582824707031, Target Test Accuracy: 82.34640502929688\n",
      "Epoch 58, Train Accuracy: 99.22500610351562, Domain Accuracy: 73.88511657714844, Source Test Accuracy: 97.91667175292969, Target Test Accuracy: 79.6355972290039\n",
      "Epoch 59, Train Accuracy: 99.28500366210938, Domain Accuracy: 73.88423919677734, Source Test Accuracy: 97.78369140625, Target Test Accuracy: 81.70203399658203\n",
      "Epoch 60, Train Accuracy: 99.27666473388672, Domain Accuracy: 73.8848648071289, Source Test Accuracy: 97.329345703125, Target Test Accuracy: 78.35795593261719\n",
      "Epoch 61, Train Accuracy: 99.30999755859375, Domain Accuracy: 73.89191436767578, Source Test Accuracy: 97.91667175292969, Target Test Accuracy: 79.40228271484375\n",
      "Epoch 62, Train Accuracy: 99.30833435058594, Domain Accuracy: 73.89824676513672, Source Test Accuracy: 97.80585479736328, Target Test Accuracy: 80.27996826171875\n",
      "Epoch 63, Train Accuracy: 99.29500579833984, Domain Accuracy: 73.90585327148438, Source Test Accuracy: 98.02748107910156, Target Test Accuracy: 80.77991485595703\n",
      "Epoch 64, Train Accuracy: 99.32833099365234, Domain Accuracy: 73.91820526123047, Source Test Accuracy: 97.80585479736328, Target Test Accuracy: 82.63526916503906\n",
      "Epoch 65, Train Accuracy: 99.22999572753906, Domain Accuracy: 73.91797637939453, Source Test Accuracy: 97.91667175292969, Target Test Accuracy: 78.41351318359375\n",
      "Epoch 66, Train Accuracy: 99.2733383178711, Domain Accuracy: 73.91813659667969, Source Test Accuracy: 98.07180786132812, Target Test Accuracy: 83.07965850830078\n",
      "Epoch 67, Train Accuracy: 99.36000061035156, Domain Accuracy: 73.92298889160156, Source Test Accuracy: 98.0939712524414, Target Test Accuracy: 82.30197143554688\n",
      "Epoch 68, Train Accuracy: 99.31666564941406, Domain Accuracy: 73.93183898925781, Source Test Accuracy: 98.07180786132812, Target Test Accuracy: 81.8020248413086\n",
      "Epoch 69, Train Accuracy: 99.3499984741211, Domain Accuracy: 73.93673706054688, Source Test Accuracy: 98.02748107910156, Target Test Accuracy: 82.7352523803711\n",
      "Epoch 70, Train Accuracy: 99.2733383178711, Domain Accuracy: 73.94149780273438, Source Test Accuracy: 98.14937591552734, Target Test Accuracy: 80.75769805908203\n",
      "Epoch 71, Train Accuracy: 99.3883285522461, Domain Accuracy: 73.94316864013672, Source Test Accuracy: 98.17154693603516, Target Test Accuracy: 82.7241439819336\n",
      "Epoch 72, Train Accuracy: 99.3883285522461, Domain Accuracy: 73.9482421875, Source Test Accuracy: 98.16046142578125, Target Test Accuracy: 81.4909439086914\n",
      "Epoch 73, Train Accuracy: 99.38666534423828, Domain Accuracy: 73.947509765625, Source Test Accuracy: 97.92774963378906, Target Test Accuracy: 81.17987060546875\n",
      "Epoch 74, Train Accuracy: 99.46666717529297, Domain Accuracy: 73.9500732421875, Source Test Accuracy: 97.7726058959961, Target Test Accuracy: 82.25753021240234\n",
      "Epoch 75, Train Accuracy: 99.41166687011719, Domain Accuracy: 73.95342254638672, Source Test Accuracy: 98.01639556884766, Target Test Accuracy: 82.15753936767578\n",
      "Epoch 76, Train Accuracy: 99.41333770751953, Domain Accuracy: 73.96278381347656, Source Test Accuracy: 98.28236389160156, Target Test Accuracy: 83.17964935302734\n",
      "Epoch 77, Train Accuracy: 99.45832824707031, Domain Accuracy: 73.96525573730469, Source Test Accuracy: 97.79476928710938, Target Test Accuracy: 83.67959594726562\n",
      "Epoch 78, Train Accuracy: 99.47333526611328, Domain Accuracy: 73.9705581665039, Source Test Accuracy: 97.96099090576172, Target Test Accuracy: 82.06865692138672\n",
      "Epoch 79, Train Accuracy: 99.45999908447266, Domain Accuracy: 73.9701919555664, Source Test Accuracy: 98.0939712524414, Target Test Accuracy: 80.33551788330078\n",
      "Epoch 80, Train Accuracy: 99.42166900634766, Domain Accuracy: 73.97760009765625, Source Test Accuracy: 97.89450073242188, Target Test Accuracy: 78.59127044677734\n",
      "Epoch 81, Train Accuracy: 99.44000244140625, Domain Accuracy: 73.98747253417969, Source Test Accuracy: 97.85018157958984, Target Test Accuracy: 83.15742492675781\n",
      "Epoch 82, Train Accuracy: 99.47166442871094, Domain Accuracy: 73.9980697631836, Source Test Accuracy: 97.78369140625, Target Test Accuracy: 83.22409057617188\n",
      "Epoch 83, Train Accuracy: 99.4566650390625, Domain Accuracy: 74.0062484741211, Source Test Accuracy: 98.04964447021484, Target Test Accuracy: 81.75758361816406\n",
      "Epoch 84, Train Accuracy: 99.46833038330078, Domain Accuracy: 74.01202392578125, Source Test Accuracy: 98.21586608886719, Target Test Accuracy: 82.82412719726562\n",
      "Epoch 85, Train Accuracy: 99.49166870117188, Domain Accuracy: 74.02571105957031, Source Test Accuracy: 98.12721252441406, Target Test Accuracy: 84.47950744628906\n",
      "Epoch 86, Train Accuracy: 99.5233383178711, Domain Accuracy: 74.03827667236328, Source Test Accuracy: 98.21586608886719, Target Test Accuracy: 85.72380828857422\n",
      "Epoch 87, Train Accuracy: 99.461669921875, Domain Accuracy: 74.04817962646484, Source Test Accuracy: 98.0828857421875, Target Test Accuracy: 81.4909439086914\n",
      "Epoch 88, Train Accuracy: 99.5250015258789, Domain Accuracy: 74.055908203125, Source Test Accuracy: 98.1937026977539, Target Test Accuracy: 82.10198974609375\n",
      "Epoch 89, Train Accuracy: 99.52666473388672, Domain Accuracy: 74.07132720947266, Source Test Accuracy: 98.29344177246094, Target Test Accuracy: 83.19075775146484\n",
      "Epoch 90, Train Accuracy: 99.5433349609375, Domain Accuracy: 74.08233642578125, Source Test Accuracy: 97.97207641601562, Target Test Accuracy: 81.75758361816406\n",
      "Epoch 91, Train Accuracy: 99.5250015258789, Domain Accuracy: 74.09126281738281, Source Test Accuracy: 97.62854766845703, Target Test Accuracy: 80.70214080810547\n",
      "Epoch 92, Train Accuracy: 99.4566650390625, Domain Accuracy: 74.10503387451172, Source Test Accuracy: 98.1937026977539, Target Test Accuracy: 83.82402038574219\n",
      "Epoch 93, Train Accuracy: 99.52832794189453, Domain Accuracy: 74.11742401123047, Source Test Accuracy: 97.91667175292969, Target Test Accuracy: 84.4017333984375\n",
      "Epoch 94, Train Accuracy: 99.56832885742188, Domain Accuracy: 74.1261215209961, Source Test Accuracy: 97.94991302490234, Target Test Accuracy: 84.52394104003906\n",
      "Epoch 95, Train Accuracy: 99.5566635131836, Domain Accuracy: 74.13517761230469, Source Test Accuracy: 97.93882751464844, Target Test Accuracy: 81.95755767822266\n",
      "Epoch 96, Train Accuracy: 99.56832885742188, Domain Accuracy: 74.14669799804688, Source Test Accuracy: 97.83909606933594, Target Test Accuracy: 84.21286010742188\n",
      "Epoch 97, Train Accuracy: 99.56500244140625, Domain Accuracy: 74.15756225585938, Source Test Accuracy: 98.23802947998047, Target Test Accuracy: 83.90178680419922\n",
      "Epoch 98, Train Accuracy: 99.59333801269531, Domain Accuracy: 74.16567993164062, Source Test Accuracy: 98.0828857421875, Target Test Accuracy: 83.92401123046875\n",
      "Epoch 99, Train Accuracy: 99.56500244140625, Domain Accuracy: 74.17459106445312, Source Test Accuracy: 98.12721252441406, Target Test Accuracy: 82.29085540771484\n",
      "Epoch 100, Train Accuracy: 99.54833221435547, Domain Accuracy: 74.18596649169922, Source Test Accuracy: 98.01639556884766, Target Test Accuracy: 84.52394104003906\n"
     ]
    }
   ],
   "source": [
    "EPOCHS = 100\n",
    "\n",
    "alpha = 1\n",
    "for epoch in range(EPOCHS):\n",
    "  reset_metrics()\n",
    "  \n",
    "  for domain_data, label_data in zip(domain_train_ds, train_ds):\n",
    "    \n",
    "    try:\n",
    "      train_step(label_data[0], label_data[1], domain_data[0], domain_data[1], alpha=alpha)\n",
    "     \n",
    "    #End of the smaller dataset\n",
    "    except ValueError: \n",
    "      pass\n",
    "    \n",
    "  for test_data, m_test_data in zip(test_ds,mnist_m_test_ds):\n",
    "    test_step(test_data[0], test_data[1], m_test_data[0], m_test_data[1])\n",
    "  \n",
    "  template = 'Epoch {}, Train Accuracy: {}, Domain Accuracy: {}, Source Test Accuracy: {}, Target Test Accuracy: {}'\n",
    "  print (template.format(epoch+1,\n",
    "                         train_accuracy.result()*100,\n",
    "                         conf_train_accuracy.result()*100,\n",
    "                         test_accuracy.result()*100,\n",
    "                         m_test_accuracy.result()*100,))"
   ]
  },
  {
   "cell_type": "code",
   "execution_count": 0,
   "metadata": {
    "colab": {},
    "colab_type": "code",
    "id": "GLun68SH_JDj"
   },
   "outputs": [],
   "source": []
  }
 ],
 "metadata": {
  "accelerator": "GPU",
  "colab": {
   "collapsed_sections": [],
   "name": "Domain adaptation, TF2.0.ipynb",
   "provenance": []
  },
  "kernelspec": {
   "display_name": "Python 3",
   "language": "python",
   "name": "python3"
  },
  "language_info": {
   "codemirror_mode": {
    "name": "ipython",
    "version": 3
   },
   "file_extension": ".py",
   "mimetype": "text/x-python",
   "name": "python",
   "nbconvert_exporter": "python",
   "pygments_lexer": "ipython3",
   "version": "3.7.5"
  }
 },
 "nbformat": 4,
 "nbformat_minor": 1
}
